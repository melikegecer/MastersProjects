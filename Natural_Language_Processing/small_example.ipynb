{
 "cells": [
  {
   "cell_type": "code",
   "execution_count": 1,
   "metadata": {},
   "outputs": [],
   "source": [
    "from sklearn.feature_extraction.text import CountVectorizer\n",
    "from nltk.stem.snowball import SnowballStemmer\n",
    "from sklearn.feature_extraction.text import TfidfTransformer\n",
    "from sklearn.pipeline import Pipeline\n",
    "from sklearn.linear_model import SGDClassifier\n",
    "from sklearn.metrics import accuracy_score"
   ]
  },
  {
   "cell_type": "code",
   "execution_count": 2,
   "metadata": {},
   "outputs": [],
   "source": [
    "corpus = ['This is a snow leopard',\n",
    "          'It is not snowing today',]"
   ]
  },
  {
   "cell_type": "code",
   "execution_count": 3,
   "metadata": {},
   "outputs": [
    {
     "name": "stdout",
     "output_type": "stream",
     "text": [
      "[[1 0 1 0 1 0 1 0]\n",
      " [1 1 0 1 0 1 0 1]]\n",
      "['is', 'it', 'leopard', 'not', 'snow', 'snowing', 'this', 'today']\n"
     ]
    }
   ],
   "source": [
    "# without considering word stem\n",
    "vectorizer = CountVectorizer()\n",
    "X = vectorizer.fit_transform(corpus)\n",
    "print(X.toarray())\n",
    "print(vectorizer.get_feature_names())"
   ]
  },
  {
   "cell_type": "code",
   "execution_count": 4,
   "metadata": {},
   "outputs": [
    {
     "name": "stdout",
     "output_type": "stream",
     "text": [
      "[[1 0 1 0 1 1 0]\n",
      " [1 1 0 1 1 0 1]]\n",
      "['is', 'it', 'leopard', 'not', 'snow', 'this', 'today']\n"
     ]
    }
   ],
   "source": [
    "# when we check word stem\n",
    "stemmer = SnowballStemmer(\"english\", ignore_stopwords=True)\n",
    "class StemmedCountVectorizer(CountVectorizer):\n",
    "    def build_analyzer(self):\n",
    "        analyzer = super(StemmedCountVectorizer, self).build_analyzer()\n",
    "        return lambda doc: ([stemmer.stem(w) for w in analyzer(doc)])\n",
    "#\n",
    "stemmed_count_vect = StemmedCountVectorizer()\n",
    "print(stemmed_count_vect.fit_transform(corpus).toarray())\n",
    "print(stemmed_count_vect.get_feature_names())"
   ]
  },
  {
   "cell_type": "code",
   "execution_count": 5,
   "metadata": {},
   "outputs": [
    {
     "name": "stdout",
     "output_type": "stream",
     "text": [
      "[[0.40993715 0.         0.57615236 0.         0.40993715 0.57615236\n",
      "  0.        ]\n",
      " [0.35520009 0.49922133 0.         0.49922133 0.35520009 0.\n",
      "  0.49922133]]\n"
     ]
    }
   ],
   "source": [
    "# when TF-IDF is added\n",
    "pipe_line = Pipeline([('vect', stemmed_count_vect),('tfidf', TfidfTransformer()),])\n",
    "print(pipe_line.fit_transform(corpus).toarray())"
   ]
  },
  {
   "cell_type": "code",
   "execution_count": 6,
   "metadata": {},
   "outputs": [
    {
     "name": "stderr",
     "output_type": "stream",
     "text": [
      "D:\\Programs\\Anaconda3\\lib\\site-packages\\sklearn\\linear_model\\stochastic_gradient.py:117: DeprecationWarning: n_iter parameter is deprecated in 0.19 and will be removed in 0.21. Use max_iter and tol instead.\n",
      "  DeprecationWarning)\n"
     ]
    },
    {
     "name": "stdout",
     "output_type": "stream",
     "text": [
      "['A' 'W']\n",
      "accuracy score: 1.0\n"
     ]
    }
   ],
   "source": [
    "# add svm\n",
    "test = ['A', 'W']\n",
    "pipe_line = Pipeline([('vect', stemmed_count_vect),('tfidf', TfidfTransformer()),\n",
    "                      ('clf-svm', SGDClassifier(loss='hinge', penalty='l2',alpha=1e-3, n_iter=5, random_state=42)),])\n",
    "fit_text_stemmed = pipe_line.fit(corpus, test)\n",
    "pred = fit_text_stemmed.predict(['This is snow', 'It is snowy today'])\n",
    "print(pred)\n",
    "y_test = ['A', 'W']\n",
    "print(\"accuracy score: \" + str(accuracy_score(pred, y_test)))"
   ]
  },
  {
   "cell_type": "code",
   "execution_count": 159,
   "metadata": {},
   "outputs": [],
   "source": [
    "# Predict confidence scores for samples.\n",
    "# The confidence score for a sample is the signed distance of that sample to the hyperplane.\n",
    "# print(fit_text_stemmed.decision_function(corpus))"
   ]
  },
  {
   "cell_type": "code",
   "execution_count": null,
   "metadata": {},
   "outputs": [],
   "source": []
  }
 ],
 "metadata": {
  "kernelspec": {
   "display_name": "Python 3",
   "language": "python",
   "name": "python3"
  },
  "language_info": {
   "codemirror_mode": {
    "name": "ipython",
    "version": 3
   },
   "file_extension": ".py",
   "mimetype": "text/x-python",
   "name": "python",
   "nbconvert_exporter": "python",
   "pygments_lexer": "ipython3",
   "version": "3.7.0"
  }
 },
 "nbformat": 4,
 "nbformat_minor": 2
}
