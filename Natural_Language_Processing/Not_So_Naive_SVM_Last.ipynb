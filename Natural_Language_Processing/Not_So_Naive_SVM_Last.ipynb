{
 "cells": [
  {
   "cell_type": "code",
   "execution_count": 34,
   "metadata": {},
   "outputs": [],
   "source": [
    "import pandas as pd\n",
    "import numpy as np\n",
    "from sklearn.feature_extraction.text import CountVectorizer\n",
    "from sklearn.model_selection import train_test_split\n",
    "from sklearn.feature_extraction.text import TfidfTransformer\n",
    "from sklearn.linear_model import SGDClassifier\n",
    "from sklearn.pipeline import Pipeline\n",
    "from sklearn.model_selection import GridSearchCV\n",
    "import nltk\n",
    "from sklearn.naive_bayes import MultinomialNB\n",
    "from nltk.stem.snowball import SnowballStemmer\n",
    "from sklearn.metrics import accuracy_score\n",
    "from sklearn.metrics import confusion_matrix\n",
    "from sklearn.metrics import classification_report"
   ]
  },
  {
   "cell_type": "code",
   "execution_count": 35,
   "metadata": {},
   "outputs": [],
   "source": [
    "# read dataset\n",
    "dataset_file = pd.read_excel('D:\\X\\clean_tweets_all_a.xlsx')\n",
    "# split data into training and test sets\n",
    "X_train, X_test, y_train, y_test = train_test_split(dataset_file['Tweet'], dataset_file['Age'], random_state = 42, test_size=0.3)"
   ]
  },
  {
   "cell_type": "code",
   "execution_count": 36,
   "metadata": {},
   "outputs": [],
   "source": [
    "# Support Vector Machines (SVM)\n",
    "# svm_model = Pipeline([('vect', CountVectorizer()),('tfidf', TfidfTransformer()),\n",
    "#                          ('clf-svm', SGDClassifier(loss='hinge', penalty='l2',alpha=1e-3, n_iter=5, random_state=42)),])\n",
    "# _ = svm_model.fit(X_train.values.astype('U'), y_train)\n",
    "# predict_svm_model = svm_model.predict(X_test.values.astype('U'))\n",
    "# print(\"accuracy score: \" + str(accuracy_score(predict_svm_model,y_test)))"
   ]
  },
  {
   "cell_type": "code",
   "execution_count": 37,
   "metadata": {},
   "outputs": [
    {
     "name": "stderr",
     "output_type": "stream",
     "text": [
      "D:\\Programs\\Anaconda3\\lib\\site-packages\\sklearn\\linear_model\\stochastic_gradient.py:117: DeprecationWarning: n_iter parameter is deprecated in 0.19 and will be removed in 0.21. Use max_iter and tol instead.\n",
      "  DeprecationWarning)\n"
     ]
    },
    {
     "name": "stdout",
     "output_type": "stream",
     "text": [
      "accuracy score: 0.9302325581395349\n"
     ]
    }
   ],
   "source": [
    "# stemming and svm\n",
    "stemmer = SnowballStemmer(\"english\", ignore_stopwords=False)\n",
    "#\n",
    "#\n",
    "class StemmedCountVectorizer(CountVectorizer):\n",
    "    def build_analyzer(self):\n",
    "        analyzer = super(StemmedCountVectorizer, self).build_analyzer()\n",
    "        return lambda doc: ([stemmer.stem(w) for w in analyzer(doc)])\n",
    "#\n",
    "#\n",
    "stemmed_count_vect = StemmedCountVectorizer()\n",
    "text_mnb_stemmed = Pipeline([('vect', stemmed_count_vect),('tfidf', TfidfTransformer()),\n",
    "                             ('clf-svm', SGDClassifier(loss='hinge', penalty='l2',alpha=0.0001, n_iter=10, random_state=42)),])\n",
    "text_mnb_stemmed = text_mnb_stemmed.fit(X_train.values.astype('U'), y_train)\n",
    "predicted_mnb_stemmed = text_mnb_stemmed.predict(X_test.values.astype('U'))\n",
    "print(\"accuracy score: \" + str(accuracy_score(predicted_mnb_stemmed,y_test)))"
   ]
  },
  {
   "cell_type": "code",
   "execution_count": 38,
   "metadata": {},
   "outputs": [
    {
     "name": "stdout",
     "output_type": "stream",
     "text": [
      "tn: 0\n",
      "tp: 80\n",
      "fn: 2\n",
      "fp: 4\n",
      "             precision    recall  f1-score   support\n",
      "\n",
      "          0       0.00      0.00      0.00         4\n",
      "          1       0.95      0.98      0.96        82\n",
      "\n",
      "avg / total       0.91      0.93      0.92        86\n",
      "\n"
     ]
    }
   ],
   "source": [
    "# print report\n",
    "tn, fp, fn, tp = confusion_matrix(y_test, predicted_mnb_stemmed).ravel()\n",
    "# tp: when it is predicted adult and is adult\n",
    "print(\"tn: \" + str(tn))\n",
    "print(\"tp: \" + str(tp))\n",
    "print(\"fn: \" + str(fn))\n",
    "print(\"fp: \" + str(fp))\n",
    "print(classification_report(y_test, predicted_mnb_stemmed))"
   ]
  },
  {
   "cell_type": "code",
   "execution_count": 39,
   "metadata": {},
   "outputs": [
    {
     "name": "stdout",
     "output_type": "stream",
     "text": [
      "X_train: 199\n",
      "X_test: 86\n",
      "y_train: 199\n",
      "y_test: 86\n",
      "predicted: 86\n"
     ]
    }
   ],
   "source": [
    "print(\"X_train: \" + str(len(X_train)))\n",
    "print(\"X_test: \" + str(len(X_test)))\n",
    "print(\"y_train: \" + str(len(y_train)))\n",
    "print(\"y_test: \" + str(len(y_test)))\n",
    "print(\"predicted: \" + str(len(predicted_mnb_stemmed)))"
   ]
  },
  {
   "cell_type": "code",
   "execution_count": null,
   "metadata": {},
   "outputs": [],
   "source": [
    "# K-fold\n",
    "from sklearn.model_selection import KFold, cross_val_score\n",
    "#\n",
    "class StemmedCountVectorizer(CountVectorizer):\n",
    "    def build_analyzer(self):\n",
    "        analyzer = super(StemmedCountVectorizer, self).build_analyzer()\n",
    "        return lambda doc: ([stemmer.stem(w) for w in analyzer(doc)])\n",
    "#\n",
    "k_fold = KFold(n_splits=10)\n",
    "X = dataset_file['Tweet']\n",
    "y = dataset_file['Age']\n",
    "for train_indices, test_indices in k_fold.split(X):\n",
    "    X_train, X_test = X[train_indices], X[test_indices]\n",
    "    y_train, y_test = y[train_indices], X[test_indices]\n",
    "    #\n",
    "    # svm\n",
    "    # stemming and svm\n",
    "    stemmer = SnowballStemmer(\"english\", ignore_stopwords=False)\n",
    "    #\n",
    "    #\n",
    "    stemmed_count_vect = StemmedCountVectorizer()\n",
    "    text_mnb_stemmed = Pipeline([('vect', stemmed_count_vect),('tfidf', TfidfTransformer()),\n",
    "                                 ('clf-svm', SGDClassifier(loss='hinge', penalty='l2',alpha=0.0001, n_iter=10, random_state=42)),])\n",
    "    text_mnb_stemmed = text_mnb_stemmed.fit(X_train.values.astype('U'), y_train)\n",
    "    predicted_mnb_stemmed = text_mnb_stemmed.predict(X_test.values.astype('U'))\n",
    "    print(\"accuracy score: \" + str(accuracy_score(predicted_mnb_stemmed,y_test)))"
   ]
  },
  {
   "cell_type": "code",
   "execution_count": null,
   "metadata": {},
   "outputs": [],
   "source": []
  }
 ],
 "metadata": {
  "kernelspec": {
   "display_name": "Python 3",
   "language": "python",
   "name": "python3"
  },
  "language_info": {
   "codemirror_mode": {
    "name": "ipython",
    "version": 3
   },
   "file_extension": ".py",
   "mimetype": "text/x-python",
   "name": "python",
   "nbconvert_exporter": "python",
   "pygments_lexer": "ipython3",
   "version": "3.7.0"
  }
 },
 "nbformat": 4,
 "nbformat_minor": 2
}
