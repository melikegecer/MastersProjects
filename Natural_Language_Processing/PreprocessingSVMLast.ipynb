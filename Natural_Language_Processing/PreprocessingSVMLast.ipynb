{
 "cells": [
  {
   "cell_type": "code",
   "execution_count": 10,
   "metadata": {},
   "outputs": [],
   "source": [
    "import nltk\n",
    "import re\n",
    "import xlsxwriter\n",
    "import os"
   ]
  },
  {
   "cell_type": "code",
   "execution_count": 12,
   "metadata": {},
   "outputs": [],
   "source": [
    "all_tweets = []\n",
    "# clean tweets and write to an excel file\n",
    "workbook = xlsxwriter.Workbook('clean_tweets_0_train.xlsx')\n",
    "worksheet = workbook.add_worksheet()\n",
    "row = 0\n",
    "col = 0\n",
    "#\n",
    "for root, dirs, files in os.walk(\".\\ctweetsIDs\\\\0_train\"):\n",
    "    print(9)\n",
    "    for filename in files:\n",
    "        print(9)\n",
    "        author_id = filename.replace(\".txt\", '')\n",
    "        with open(\".\\ctweetsIDs\\\\0_train\\\\\" + author_id + \".txt\", 'rb') as f:\n",
    "            file_lines = [l.decode('utf8', 'ignore') for l in f.readlines()]\n",
    "        author_tweet = \"\"\n",
    "        for line in file_lines:\n",
    "            # \n",
    "            # lower case\n",
    "            lower_text = line.lower()\n",
    "            #\n",
    "            # remove links\n",
    "            remove_links = re.sub(r\"http\\S+\", \"\", line)\n",
    "            #\n",
    "            # remove numbers\n",
    "            remove_numbers = ''.join([i for i in remove_links if not i.isdigit()])\n",
    "            #\n",
    "            # remove non-English words\n",
    "            text_remove_non_Eng = \" \".join(w for w in nltk.wordpunct_tokenize(remove_numbers) if w.lower() in words or not w.isalpha())        \n",
    "            #\n",
    "            # replace punctuation characters with spaces\n",
    "            possible_filters = '!\"\\'#$%&()*+,-./:;<=>?@[\\\\]^_`{|}~\\t\\n'\n",
    "            translate_dict = dict((c, \"\") for c in possible_filters)\n",
    "            translate_map = str.maketrans(translate_dict)\n",
    "            text_remove_puctuation = text_remove_non_Eng.translate(translate_map)\n",
    "            # \n",
    "            # merge tweets\n",
    "            author_tweet += line + \" \"\n",
    "        # write to a file\n",
    "        worksheet.write(row, col, 0)\n",
    "        worksheet.write(row, col + 1, author_tweet)\n",
    "        row += 1\n",
    "workbook.close()"
   ]
  },
  {
   "cell_type": "code",
   "execution_count": null,
   "metadata": {},
   "outputs": [],
   "source": []
  }
 ],
 "metadata": {
  "kernelspec": {
   "display_name": "Python 3",
   "language": "python",
   "name": "python3"
  },
  "language_info": {
   "codemirror_mode": {
    "name": "ipython",
    "version": 3
   },
   "file_extension": ".py",
   "mimetype": "text/x-python",
   "name": "python",
   "nbconvert_exporter": "python",
   "pygments_lexer": "ipython3",
   "version": "3.7.0"
  }
 },
 "nbformat": 4,
 "nbformat_minor": 2
}
